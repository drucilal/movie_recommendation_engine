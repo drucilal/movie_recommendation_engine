{
 "cells": [
  {
   "cell_type": "markdown",
   "metadata": {},
   "source": [
    "# Movie Recommender System using Count Vectorizer and Cosine Similarity"
   ]
  },
  {
   "cell_type": "markdown",
   "metadata": {},
   "source": [
    "Aim: Focus on content based filtering using CountVectorizer and cosine similarity with Python to predict the ratings of movies"
   ]
  },
  {
   "cell_type": "markdown",
   "metadata": {},
   "source": [
    "DataSet columns used in model:\n",
    "\n",
    "Title\n",
    "\n",
    "Director\n",
    "\n",
    "Actor\n",
    "\n",
    "Genre\n",
    "\n",
    "Description"
   ]
  },
  {
   "cell_type": "markdown",
   "metadata": {},
   "source": [
    "Content: \n",
    "1. Load in csv data (movies.csv)\n",
    "2. Explanatory Data Analysis to have a deeper understanding of the dataset\n",
    "3. Creating a sample dataset of necessary columns\n",
    "4. Using nltk dependencies to preprocess and clean description(content) colummns\n",
    "5. Count Vectorizer to take the actor and director features\n",
    "6. Buidling the recommendation model using cosine similarlity "
   ]
  },
  {
   "cell_type": "code",
   "execution_count": 1,
   "metadata": {},
   "outputs": [
    {
     "data": {
      "text/html": [
       "        <script type=\"text/javascript\">\n",
       "        window.PlotlyConfig = {MathJaxConfig: 'local'};\n",
       "        if (window.MathJax) {MathJax.Hub.Config({SVG: {font: \"STIX-Web\"}});}\n",
       "        if (typeof require !== 'undefined') {\n",
       "        require.undef(\"plotly\");\n",
       "        requirejs.config({\n",
       "            paths: {\n",
       "                'plotly': ['https://cdn.plot.ly/plotly-latest.min']\n",
       "            }\n",
       "        });\n",
       "        require(['plotly'], function(Plotly) {\n",
       "            window._Plotly = Plotly;\n",
       "        });\n",
       "        }\n",
       "        </script>\n",
       "        "
      ]
     },
     "metadata": {},
     "output_type": "display_data"
    }
   ],
   "source": [
    "import pandas as pd\n",
    "import numpy as np\n",
    "import matplotlib.pyplot as plt\n",
    "import seaborn as sns\n",
    "from plotly.offline import init_notebook_mode,iplot\n",
    "init_notebook_mode(connected=True)\n",
    "pd.set_option('display.max_columns', None)\n",
    "pd.options.mode.chained_assignment = None\n",
    "import itertools\n",
    "from rake_nltk import Rake\n",
    "from sklearn.feature_extraction.text import CountVectorizer\n",
    "from sklearn.metrics.pairwise import cosine_similarity\n",
    "import warnings\n",
    "warnings.filterwarnings('ignore')"
   ]
  },
  {
   "cell_type": "code",
   "execution_count": 2,
   "metadata": {},
   "outputs": [
    {
     "data": {
      "text/html": [
       "<div>\n",
       "<style scoped>\n",
       "    .dataframe tbody tr th:only-of-type {\n",
       "        vertical-align: middle;\n",
       "    }\n",
       "\n",
       "    .dataframe tbody tr th {\n",
       "        vertical-align: top;\n",
       "    }\n",
       "\n",
       "    .dataframe thead th {\n",
       "        text-align: right;\n",
       "    }\n",
       "</style>\n",
       "<table border=\"1\" class=\"dataframe\">\n",
       "  <thead>\n",
       "    <tr style=\"text-align: right;\">\n",
       "      <th></th>\n",
       "      <th>imdb_title_id</th>\n",
       "      <th>title</th>\n",
       "      <th>original_title</th>\n",
       "      <th>year</th>\n",
       "      <th>date_published</th>\n",
       "      <th>genre</th>\n",
       "      <th>duration</th>\n",
       "      <th>country</th>\n",
       "      <th>language</th>\n",
       "      <th>director</th>\n",
       "      <th>writer</th>\n",
       "      <th>production_company</th>\n",
       "      <th>actors</th>\n",
       "      <th>description</th>\n",
       "      <th>avg_vote</th>\n",
       "      <th>votes</th>\n",
       "      <th>budget</th>\n",
       "      <th>usa_gross_income</th>\n",
       "      <th>worlwide_gross_income</th>\n",
       "      <th>metascore</th>\n",
       "      <th>reviews_from_users</th>\n",
       "      <th>reviews_from_critics</th>\n",
       "    </tr>\n",
       "  </thead>\n",
       "  <tbody>\n",
       "    <tr>\n",
       "      <th>0</th>\n",
       "      <td>tt0000574</td>\n",
       "      <td>The Story of the Kelly Gang</td>\n",
       "      <td>The Story of the Kelly Gang</td>\n",
       "      <td>1906</td>\n",
       "      <td>1906-12-26</td>\n",
       "      <td>Biography, Crime, Drama</td>\n",
       "      <td>70</td>\n",
       "      <td>Australia</td>\n",
       "      <td>NaN</td>\n",
       "      <td>Charles Tait</td>\n",
       "      <td>Charles Tait</td>\n",
       "      <td>J. and N. Tait</td>\n",
       "      <td>Elizabeth Tait, John Tait, Norman Campbell, Be...</td>\n",
       "      <td>True story of notorious Australian outlaw Ned ...</td>\n",
       "      <td>6.1</td>\n",
       "      <td>537</td>\n",
       "      <td>$ 2250</td>\n",
       "      <td>NaN</td>\n",
       "      <td>NaN</td>\n",
       "      <td>NaN</td>\n",
       "      <td>7.0</td>\n",
       "      <td>7.0</td>\n",
       "    </tr>\n",
       "    <tr>\n",
       "      <th>1</th>\n",
       "      <td>tt0001892</td>\n",
       "      <td>Den sorte drøm</td>\n",
       "      <td>Den sorte drøm</td>\n",
       "      <td>1911</td>\n",
       "      <td>1911-08-19</td>\n",
       "      <td>Drama</td>\n",
       "      <td>53</td>\n",
       "      <td>Germany, Denmark</td>\n",
       "      <td>NaN</td>\n",
       "      <td>Urban Gad</td>\n",
       "      <td>Urban Gad, Gebhard Schätzler-Perasini</td>\n",
       "      <td>Fotorama</td>\n",
       "      <td>Asta Nielsen, Valdemar Psilander, Gunnar Helse...</td>\n",
       "      <td>Two men of high rank are both wooing the beaut...</td>\n",
       "      <td>5.9</td>\n",
       "      <td>171</td>\n",
       "      <td>NaN</td>\n",
       "      <td>NaN</td>\n",
       "      <td>NaN</td>\n",
       "      <td>NaN</td>\n",
       "      <td>4.0</td>\n",
       "      <td>2.0</td>\n",
       "    </tr>\n",
       "    <tr>\n",
       "      <th>2</th>\n",
       "      <td>tt0002101</td>\n",
       "      <td>Cleopatra</td>\n",
       "      <td>Cleopatra</td>\n",
       "      <td>1912</td>\n",
       "      <td>1912-11-13</td>\n",
       "      <td>Drama, History</td>\n",
       "      <td>100</td>\n",
       "      <td>USA</td>\n",
       "      <td>English</td>\n",
       "      <td>Charles L. Gaskill</td>\n",
       "      <td>Victorien Sardou</td>\n",
       "      <td>Helen Gardner Picture Players</td>\n",
       "      <td>Helen Gardner, Pearl Sindelar, Miss Fielding, ...</td>\n",
       "      <td>The fabled queen of Egypt's affair with Roman ...</td>\n",
       "      <td>5.2</td>\n",
       "      <td>420</td>\n",
       "      <td>$ 45000</td>\n",
       "      <td>NaN</td>\n",
       "      <td>NaN</td>\n",
       "      <td>NaN</td>\n",
       "      <td>24.0</td>\n",
       "      <td>3.0</td>\n",
       "    </tr>\n",
       "    <tr>\n",
       "      <th>3</th>\n",
       "      <td>tt0002130</td>\n",
       "      <td>L'Inferno</td>\n",
       "      <td>L'Inferno</td>\n",
       "      <td>1911</td>\n",
       "      <td>1911-03-06</td>\n",
       "      <td>Adventure, Drama, Fantasy</td>\n",
       "      <td>68</td>\n",
       "      <td>Italy</td>\n",
       "      <td>Italian</td>\n",
       "      <td>Francesco Bertolini, Adolfo Padovan</td>\n",
       "      <td>Dante Alighieri</td>\n",
       "      <td>Milano Film</td>\n",
       "      <td>Salvatore Papa, Arturo Pirovano, Giuseppe de L...</td>\n",
       "      <td>Loosely adapted from Dante's Divine Comedy and...</td>\n",
       "      <td>7.0</td>\n",
       "      <td>2019</td>\n",
       "      <td>NaN</td>\n",
       "      <td>NaN</td>\n",
       "      <td>NaN</td>\n",
       "      <td>NaN</td>\n",
       "      <td>28.0</td>\n",
       "      <td>14.0</td>\n",
       "    </tr>\n",
       "    <tr>\n",
       "      <th>4</th>\n",
       "      <td>tt0002199</td>\n",
       "      <td>From the Manger to the Cross; or, Jesus of Naz...</td>\n",
       "      <td>From the Manger to the Cross; or, Jesus of Naz...</td>\n",
       "      <td>1912</td>\n",
       "      <td>1913</td>\n",
       "      <td>Biography, Drama</td>\n",
       "      <td>60</td>\n",
       "      <td>USA</td>\n",
       "      <td>English</td>\n",
       "      <td>Sidney Olcott</td>\n",
       "      <td>Gene Gauntier</td>\n",
       "      <td>Kalem Company</td>\n",
       "      <td>R. Henderson Bland, Percy Dyer, Gene Gauntier,...</td>\n",
       "      <td>An account of the life of Jesus Christ, based ...</td>\n",
       "      <td>5.7</td>\n",
       "      <td>438</td>\n",
       "      <td>NaN</td>\n",
       "      <td>NaN</td>\n",
       "      <td>NaN</td>\n",
       "      <td>NaN</td>\n",
       "      <td>12.0</td>\n",
       "      <td>5.0</td>\n",
       "    </tr>\n",
       "  </tbody>\n",
       "</table>\n",
       "</div>"
      ],
      "text/plain": [
       "  imdb_title_id                                              title  \\\n",
       "0     tt0000574                        The Story of the Kelly Gang   \n",
       "1     tt0001892                                     Den sorte drøm   \n",
       "2     tt0002101                                          Cleopatra   \n",
       "3     tt0002130                                          L'Inferno   \n",
       "4     tt0002199  From the Manger to the Cross; or, Jesus of Naz...   \n",
       "\n",
       "                                      original_title  year date_published  \\\n",
       "0                        The Story of the Kelly Gang  1906     1906-12-26   \n",
       "1                                     Den sorte drøm  1911     1911-08-19   \n",
       "2                                          Cleopatra  1912     1912-11-13   \n",
       "3                                          L'Inferno  1911     1911-03-06   \n",
       "4  From the Manger to the Cross; or, Jesus of Naz...  1912           1913   \n",
       "\n",
       "                       genre  duration           country language  \\\n",
       "0    Biography, Crime, Drama        70         Australia      NaN   \n",
       "1                      Drama        53  Germany, Denmark      NaN   \n",
       "2             Drama, History       100               USA  English   \n",
       "3  Adventure, Drama, Fantasy        68             Italy  Italian   \n",
       "4           Biography, Drama        60               USA  English   \n",
       "\n",
       "                              director                                 writer  \\\n",
       "0                         Charles Tait                           Charles Tait   \n",
       "1                            Urban Gad  Urban Gad, Gebhard Schätzler-Perasini   \n",
       "2                   Charles L. Gaskill                       Victorien Sardou   \n",
       "3  Francesco Bertolini, Adolfo Padovan                        Dante Alighieri   \n",
       "4                        Sidney Olcott                          Gene Gauntier   \n",
       "\n",
       "              production_company  \\\n",
       "0                 J. and N. Tait   \n",
       "1                       Fotorama   \n",
       "2  Helen Gardner Picture Players   \n",
       "3                    Milano Film   \n",
       "4                  Kalem Company   \n",
       "\n",
       "                                              actors  \\\n",
       "0  Elizabeth Tait, John Tait, Norman Campbell, Be...   \n",
       "1  Asta Nielsen, Valdemar Psilander, Gunnar Helse...   \n",
       "2  Helen Gardner, Pearl Sindelar, Miss Fielding, ...   \n",
       "3  Salvatore Papa, Arturo Pirovano, Giuseppe de L...   \n",
       "4  R. Henderson Bland, Percy Dyer, Gene Gauntier,...   \n",
       "\n",
       "                                         description  avg_vote  votes  \\\n",
       "0  True story of notorious Australian outlaw Ned ...       6.1    537   \n",
       "1  Two men of high rank are both wooing the beaut...       5.9    171   \n",
       "2  The fabled queen of Egypt's affair with Roman ...       5.2    420   \n",
       "3  Loosely adapted from Dante's Divine Comedy and...       7.0   2019   \n",
       "4  An account of the life of Jesus Christ, based ...       5.7    438   \n",
       "\n",
       "    budget usa_gross_income worlwide_gross_income  metascore  \\\n",
       "0   $ 2250              NaN                   NaN        NaN   \n",
       "1      NaN              NaN                   NaN        NaN   \n",
       "2  $ 45000              NaN                   NaN        NaN   \n",
       "3      NaN              NaN                   NaN        NaN   \n",
       "4      NaN              NaN                   NaN        NaN   \n",
       "\n",
       "   reviews_from_users  reviews_from_critics  \n",
       "0                 7.0                   7.0  \n",
       "1                 4.0                   2.0  \n",
       "2                24.0                   3.0  \n",
       "3                28.0                  14.0  \n",
       "4                12.0                   5.0  "
      ]
     },
     "execution_count": 2,
     "metadata": {},
     "output_type": "execute_result"
    }
   ],
   "source": [
    "df = pd.read_csv('movies.csv')\n",
    "df.head()"
   ]
  },
  {
   "cell_type": "code",
   "execution_count": 3,
   "metadata": {},
   "outputs": [
    {
     "data": {
      "text/plain": [
       "0    True story of notorious Australian outlaw Ned ...\n",
       "1    Two men of high rank are both wooing the beaut...\n",
       "2    The fabled queen of Egypt's affair with Roman ...\n",
       "3    Loosely adapted from Dante's Divine Comedy and...\n",
       "4    An account of the life of Jesus Christ, based ...\n",
       "Name: description, dtype: object"
      ]
     },
     "execution_count": 3,
     "metadata": {},
     "output_type": "execute_result"
    }
   ],
   "source": [
    "# Inspecting the plots of a few movies\n",
    "df['description'].head()"
   ]
  },
  {
   "cell_type": "code",
   "execution_count": 4,
   "metadata": {},
   "outputs": [
    {
     "data": {
      "image/png": "[encoded data removed]",
      "text/plain": [
       "<Figure size 1080x720 with 1 Axes>"
      ]
     },
     "metadata": {},
     "output_type": "display_data"
    }
   ],
   "source": [
    "# Inspecting the movies released over the years\n",
    "df = df[df.date_published.notnull()]\n",
    "df['date_published'] = pd.to_datetime(df['date_published'])\n",
    "\n",
    "sns.set(style=\"white\")\n",
    "\n",
    "plt.figure(figsize=(15,10))\n",
    "plt.title('Movies by the year', size=20)\n",
    "sns.distplot(df.year, bins=100, kde=False)\n",
    "plt.ylabel('Count', size=15)\n",
    "plt.xlabel('Release Year',size=15)\n",
    "plt.axis([1920, 2019, 0, 5000])\n",
    "plt.xticks(np.arange(1920, 2019, step=5),rotation=45, ha='right')\n",
    "plt.show()"
   ]
  },
  {
   "cell_type": "code",
   "execution_count": 5,
   "metadata": {},
   "outputs": [
    {
     "data": {
      "text/plain": [
       "Text(0.5, 1.0, 'Distribution of Studio names')"
      ]
     },
     "execution_count": 5,
     "metadata": {},
     "output_type": "execute_result"
    },
    {
     "data": {
      "image/png": "[encoded data removed]",
      "text/plain": [
       "<Figure size 1080x720 with 1 Axes>"
      ]
     },
     "metadata": {},
     "output_type": "display_data"
    }
   ],
   "source": [
    "# Studio Names\n",
    "a = plt.cm.winter\n",
    "plt.figure(figsize=(15,10))\n",
    "count = df['production_company'].value_counts()[:10]\n",
    "sns.barplot(count.values, count.index, palette=[a(0.1),a(0.2),a(0.3),a(0.4),a(0.5),a(0.6),a(0.7),a(0.8),a(0.9),a(0.99)])\n",
    "for i, v in enumerate(count.values):\n",
    "    plt.text(0.8,i,v,color='k',fontsize=14)\n",
    "plt.xlabel('Count', fontsize=12)\n",
    "plt.ylabel('Production Company name', fontsize=12)\n",
    "plt.title(\"Distribution of Studio names\", fontsize=16)"
   ]
  },
  {
   "cell_type": "code",
   "execution_count": 6,
   "metadata": {
    "scrolled": true
   },
   "outputs": [
    {
     "data": {
      "text/plain": [
       "Text(0.5, 1.0, 'Distribution of Genres')"
      ]
     },
     "execution_count": 6,
     "metadata": {},
     "output_type": "execute_result"
    },
    {
     "data": {
      "image/png": "[encoded data removed]",
      "text/plain": [
       "<Figure size 1080x720 with 1 Axes>"
      ]
     },
     "metadata": {},
     "output_type": "display_data"
    }
   ],
   "source": [
    "# Genres\n",
    "df['first_genre'] = df['genre'].str.split(',').str[0]\n",
    "\n",
    "a = plt.cm.winter\n",
    "\n",
    "plt.figure(figsize=(15,10))\n",
    "count = df['first_genre'].value_counts()[:7]\n",
    "sns.barplot(count.values, count.index, palette=[a(0.1),a(0.2),a(0.3),a(0.4),a(0.5),a(0.6),a(0.7)])\n",
    "for i, v in enumerate(count.values):\n",
    "    plt.text(0.8,i,v,color='k',fontsize=14)\n",
    "plt.xlabel('Count', fontsize=12)\n",
    "plt.ylabel('Genre name', fontsize=12)\n",
    "plt.title(\"Distribution of Genres\", fontsize=16)"
   ]
  },
  {
   "cell_type": "code",
   "execution_count": 7,
   "metadata": {},
   "outputs": [
    {
     "data": {
      "text/plain": [
       "Index(['imdb_title_id', 'title', 'original_title', 'year', 'date_published',\n",
       "       'genre', 'duration', 'country', 'language', 'director', 'writer',\n",
       "       'production_company', 'actors', 'description', 'avg_vote', 'votes',\n",
       "       'budget', 'usa_gross_income', 'worlwide_gross_income', 'metascore',\n",
       "       'reviews_from_users', 'reviews_from_critics', 'first_genre'],\n",
       "      dtype='object')"
      ]
     },
     "execution_count": 7,
     "metadata": {},
     "output_type": "execute_result"
    }
   ],
   "source": [
    "df.columns"
   ]
  },
  {
   "cell_type": "code",
   "execution_count": 8,
   "metadata": {},
   "outputs": [],
   "source": [
    "# Recommender: took sample of dataset\n",
    "df1 = df[['title','director','actors','genre','description']]\n",
    "rec_df = df1.sample(frac= 0.3)"
   ]
  },
  {
   "cell_type": "code",
   "execution_count": 9,
   "metadata": {},
   "outputs": [
    {
     "data": {
      "text/plain": [
       "(24382, 5)"
      ]
     },
     "execution_count": 9,
     "metadata": {},
     "output_type": "execute_result"
    }
   ],
   "source": [
    "rec_df.shape"
   ]
  },
  {
   "cell_type": "code",
   "execution_count": 10,
   "metadata": {},
   "outputs": [
    {
     "data": {
      "text/plain": [
       "title            0\n",
       "director        17\n",
       "actors          19\n",
       "genre            0\n",
       "description    729\n",
       "dtype: int64"
      ]
     },
     "execution_count": 10,
     "metadata": {},
     "output_type": "execute_result"
    }
   ],
   "source": [
    "# Checking for missing values\n",
    "rec_df.isnull().sum()"
   ]
  },
  {
   "cell_type": "code",
   "execution_count": 11,
   "metadata": {},
   "outputs": [],
   "source": [
    "# Filling in missing rows\n",
    "rec_df['director']=rec_df['director'].fillna(' ')\n",
    "rec_df['director']=rec_df['director'].astype('str')\n",
    "rec_df['actors']=rec_df['actors'].fillna(' ')\n",
    "rec_df['actors']=rec_df['actors'].astype('str')"
   ]
  },
  {
   "cell_type": "code",
   "execution_count": 12,
   "metadata": {},
   "outputs": [],
   "source": [
    "rec_df = rec_df[rec_df['description'].notna()]"
   ]
  },
  {
   "cell_type": "markdown",
   "metadata": {},
   "source": [
    "### Description Column Preprocessing"
   ]
  },
  {
   "cell_type": "code",
   "execution_count": 13,
   "metadata": {},
   "outputs": [],
   "source": [
    "rec_df['important_words'] = \"\"\n",
    "for index, word in rec_df.iterrows():\n",
    "    content = word['description']\n",
    "    r = Rake()\n",
    "    r.extract_keywords_from_text(content)\n",
    "    important_words_score = r.get_word_degrees()\n",
    "    word['important_words'] = list(important_words_score.keys())\n",
    "rec_df.drop(columns = ['description'],inplace = True)"
   ]
  },
  {
   "cell_type": "code",
   "execution_count": 14,
   "metadata": {},
   "outputs": [
    {
     "data": {
      "text/html": [
       "<div>\n",
       "<style scoped>\n",
       "    .dataframe tbody tr th:only-of-type {\n",
       "        vertical-align: middle;\n",
       "    }\n",
       "\n",
       "    .dataframe tbody tr th {\n",
       "        vertical-align: top;\n",
       "    }\n",
       "\n",
       "    .dataframe thead th {\n",
       "        text-align: right;\n",
       "    }\n",
       "</style>\n",
       "<table border=\"1\" class=\"dataframe\">\n",
       "  <thead>\n",
       "    <tr style=\"text-align: right;\">\n",
       "      <th></th>\n",
       "      <th>title</th>\n",
       "      <th>director</th>\n",
       "      <th>actors</th>\n",
       "      <th>genre</th>\n",
       "      <th>important_words</th>\n",
       "    </tr>\n",
       "  </thead>\n",
       "  <tbody>\n",
       "    <tr>\n",
       "      <th>62789</th>\n",
       "      <td>Ludwig II</td>\n",
       "      <td>Marie Noëlle, Peter Sehr</td>\n",
       "      <td>Sabin Tambrea, Sebastian Schipper, Hannah Herz...</td>\n",
       "      <td>Biography, Drama, History</td>\n",
       "      <td>[modern, times, one, fascinating, monarchs, pa...</td>\n",
       "    </tr>\n",
       "    <tr>\n",
       "      <th>12060</th>\n",
       "      <td>Cul-de-sac</td>\n",
       "      <td>Roman Polanski</td>\n",
       "      <td>Donald Pleasence, Françoise Dorléac, Lionel St...</td>\n",
       "      <td>Comedy, Drama, Thriller</td>\n",
       "      <td>[feeble, man, nothing, search, secluded, castl...</td>\n",
       "    </tr>\n",
       "    <tr>\n",
       "      <th>56921</th>\n",
       "      <td>Stomp the Yard 2: Homecoming</td>\n",
       "      <td>Rob Hardy</td>\n",
       "      <td>Collins Pennie, Pooch Hall, Tika Sumpter, Step...</td>\n",
       "      <td>Drama, Music</td>\n",
       "      <td>[opportunity, find, school, homecoming, weeken...</td>\n",
       "    </tr>\n",
       "    <tr>\n",
       "      <th>45619</th>\n",
       "      <td>Ah Aah: Anbe Aaruyire</td>\n",
       "      <td>S.J. Surya</td>\n",
       "      <td>S.J. Surya, Meera Chopra, Urvashi, Santhanam, ...</td>\n",
       "      <td>Romance</td>\n",
       "      <td>[live, middle, class, families, fall, get, mar...</td>\n",
       "    </tr>\n",
       "    <tr>\n",
       "      <th>28192</th>\n",
       "      <td>Jack &amp; Sarah</td>\n",
       "      <td>Tim Sullivan</td>\n",
       "      <td>Richard E. Grant, Samantha Mathis, Judi Dench,...</td>\n",
       "      <td>Comedy, Drama, Romance</td>\n",
       "      <td>[recent, british, widower, nanny, young, ameri...</td>\n",
       "    </tr>\n",
       "  </tbody>\n",
       "</table>\n",
       "</div>"
      ],
      "text/plain": [
       "                              title                  director  \\\n",
       "62789                     Ludwig II  Marie Noëlle, Peter Sehr   \n",
       "12060                    Cul-de-sac            Roman Polanski   \n",
       "56921  Stomp the Yard 2: Homecoming                 Rob Hardy   \n",
       "45619         Ah Aah: Anbe Aaruyire                S.J. Surya   \n",
       "28192                  Jack & Sarah              Tim Sullivan   \n",
       "\n",
       "                                                  actors  \\\n",
       "62789  Sabin Tambrea, Sebastian Schipper, Hannah Herz...   \n",
       "12060  Donald Pleasence, Françoise Dorléac, Lionel St...   \n",
       "56921  Collins Pennie, Pooch Hall, Tika Sumpter, Step...   \n",
       "45619  S.J. Surya, Meera Chopra, Urvashi, Santhanam, ...   \n",
       "28192  Richard E. Grant, Samantha Mathis, Judi Dench,...   \n",
       "\n",
       "                           genre  \\\n",
       "62789  Biography, Drama, History   \n",
       "12060    Comedy, Drama, Thriller   \n",
       "56921               Drama, Music   \n",
       "45619                    Romance   \n",
       "28192     Comedy, Drama, Romance   \n",
       "\n",
       "                                         important_words  \n",
       "62789  [modern, times, one, fascinating, monarchs, pa...  \n",
       "12060  [feeble, man, nothing, search, secluded, castl...  \n",
       "56921  [opportunity, find, school, homecoming, weeken...  \n",
       "45619  [live, middle, class, families, fall, get, mar...  \n",
       "28192  [recent, british, widower, nanny, young, ameri...  "
      ]
     },
     "execution_count": 14,
     "metadata": {},
     "output_type": "execute_result"
    }
   ],
   "source": [
    "rec_df.head()"
   ]
  },
  {
   "cell_type": "code",
   "execution_count": 15,
   "metadata": {},
   "outputs": [],
   "source": [
    "rec_df['director'] = rec_df['director'].map(lambda d: d.split(' '))\n",
    "rec_df['actors'] = rec_df['actors'].map(lambda c: c.split(',')[:3])\n",
    "\n",
    "for index, name in rec_df.iterrows():\n",
    "    name['actors'] = [c.lower().replace(' ','') for c in name['actors']]\n",
    "    name['director'] = ''.join(name['director']).lower()\n",
    "    \n",
    "rec_df['genre'] = rec_df['genre'].map(lambda l: l.lower().split(','))\n",
    "rec_df.set_index('title', inplace = True)"
   ]
  },
  {
   "cell_type": "code",
   "execution_count": 16,
   "metadata": {},
   "outputs": [
    {
     "data": {
      "text/html": [
       "<div>\n",
       "<style scoped>\n",
       "    .dataframe tbody tr th:only-of-type {\n",
       "        vertical-align: middle;\n",
       "    }\n",
       "\n",
       "    .dataframe tbody tr th {\n",
       "        vertical-align: top;\n",
       "    }\n",
       "\n",
       "    .dataframe thead th {\n",
       "        text-align: right;\n",
       "    }\n",
       "</style>\n",
       "<table border=\"1\" class=\"dataframe\">\n",
       "  <thead>\n",
       "    <tr style=\"text-align: right;\">\n",
       "      <th></th>\n",
       "      <th>director</th>\n",
       "      <th>actors</th>\n",
       "      <th>genre</th>\n",
       "      <th>important_words</th>\n",
       "    </tr>\n",
       "    <tr>\n",
       "      <th>title</th>\n",
       "      <th></th>\n",
       "      <th></th>\n",
       "      <th></th>\n",
       "      <th></th>\n",
       "    </tr>\n",
       "  </thead>\n",
       "  <tbody>\n",
       "    <tr>\n",
       "      <th>Ludwig II</th>\n",
       "      <td>marienoëlle,petersehr</td>\n",
       "      <td>[sabintambrea, sebastianschipper, hannahherzsp...</td>\n",
       "      <td>[biography,  drama,  history]</td>\n",
       "      <td>[modern, times, one, fascinating, monarchs, pa...</td>\n",
       "    </tr>\n",
       "    <tr>\n",
       "      <th>Cul-de-sac</th>\n",
       "      <td>romanpolanski</td>\n",
       "      <td>[donaldpleasence, françoisedorléac, lionelstan...</td>\n",
       "      <td>[comedy,  drama,  thriller]</td>\n",
       "      <td>[feeble, man, nothing, search, secluded, castl...</td>\n",
       "    </tr>\n",
       "    <tr>\n",
       "      <th>Stomp the Yard 2: Homecoming</th>\n",
       "      <td>robhardy</td>\n",
       "      <td>[collinspennie, poochhall, tikasumpter]</td>\n",
       "      <td>[drama,  music]</td>\n",
       "      <td>[opportunity, find, school, homecoming, weeken...</td>\n",
       "    </tr>\n",
       "    <tr>\n",
       "      <th>Ah Aah: Anbe Aaruyire</th>\n",
       "      <td>s.j.surya</td>\n",
       "      <td>[s.j.surya, meerachopra, urvashi]</td>\n",
       "      <td>[romance]</td>\n",
       "      <td>[live, middle, class, families, fall, get, mar...</td>\n",
       "    </tr>\n",
       "    <tr>\n",
       "      <th>Jack &amp; Sarah</th>\n",
       "      <td>timsullivan</td>\n",
       "      <td>[richarde.grant, samanthamathis, judidench]</td>\n",
       "      <td>[comedy,  drama,  romance]</td>\n",
       "      <td>[recent, british, widower, nanny, young, ameri...</td>\n",
       "    </tr>\n",
       "  </tbody>\n",
       "</table>\n",
       "</div>"
      ],
      "text/plain": [
       "                                           director  \\\n",
       "title                                                 \n",
       "Ludwig II                     marienoëlle,petersehr   \n",
       "Cul-de-sac                            romanpolanski   \n",
       "Stomp the Yard 2: Homecoming               robhardy   \n",
       "Ah Aah: Anbe Aaruyire                     s.j.surya   \n",
       "Jack & Sarah                            timsullivan   \n",
       "\n",
       "                                                                         actors  \\\n",
       "title                                                                             \n",
       "Ludwig II                     [sabintambrea, sebastianschipper, hannahherzsp...   \n",
       "Cul-de-sac                    [donaldpleasence, françoisedorléac, lionelstan...   \n",
       "Stomp the Yard 2: Homecoming            [collinspennie, poochhall, tikasumpter]   \n",
       "Ah Aah: Anbe Aaruyire                         [s.j.surya, meerachopra, urvashi]   \n",
       "Jack & Sarah                        [richarde.grant, samanthamathis, judidench]   \n",
       "\n",
       "                                                      genre  \\\n",
       "title                                                         \n",
       "Ludwig II                     [biography,  drama,  history]   \n",
       "Cul-de-sac                      [comedy,  drama,  thriller]   \n",
       "Stomp the Yard 2: Homecoming                [drama,  music]   \n",
       "Ah Aah: Anbe Aaruyire                             [romance]   \n",
       "Jack & Sarah                     [comedy,  drama,  romance]   \n",
       "\n",
       "                                                                important_words  \n",
       "title                                                                            \n",
       "Ludwig II                     [modern, times, one, fascinating, monarchs, pa...  \n",
       "Cul-de-sac                    [feeble, man, nothing, search, secluded, castl...  \n",
       "Stomp the Yard 2: Homecoming  [opportunity, find, school, homecoming, weeken...  \n",
       "Ah Aah: Anbe Aaruyire         [live, middle, class, families, fall, get, mar...  \n",
       "Jack & Sarah                  [recent, british, widower, nanny, young, ameri...  "
      ]
     },
     "execution_count": 16,
     "metadata": {},
     "output_type": "execute_result"
    }
   ],
   "source": [
    "rec_df.head()"
   ]
  },
  {
   "cell_type": "code",
   "execution_count": 17,
   "metadata": {},
   "outputs": [],
   "source": [
    "rec_df['bagged_words'] = ''\n",
    "columns = rec_df.columns\n",
    "for index, row in rec_df.iterrows():\n",
    "    words = ''\n",
    "    for col in columns:\n",
    "        if col != 'director':\n",
    "            words = words + ' '.join(row[col])+ ' '\n",
    "        else:\n",
    "            words = words + row[col]+ ' '\n",
    "    row['bagged_words'] = words\n",
    "    \n",
    "rec_df.drop(columns = [col for col in rec_df.columns if col!= 'bagged_words'], inplace = True)"
   ]
  },
  {
   "cell_type": "code",
   "execution_count": 18,
   "metadata": {},
   "outputs": [
    {
     "data": {
      "text/plain": [
       "bagged_words    object\n",
       "dtype: object"
      ]
     },
     "execution_count": 18,
     "metadata": {},
     "output_type": "execute_result"
    }
   ],
   "source": [
    "rec_df.dtypes"
   ]
  },
  {
   "cell_type": "markdown",
   "metadata": {},
   "source": [
    "### Using the Count Vectorizer because the presence of the actors and directors should not be excluded if he or she has acted directly in relatively more movies. "
   ]
  },
  {
   "cell_type": "code",
   "execution_count": 19,
   "metadata": {},
   "outputs": [],
   "source": [
    "# Import Count Vectorizer and create a count matrix\n",
    "c = CountVectorizer()\n",
    "c_matrix = c.fit_transform(rec_df['bagged_words'])"
   ]
  },
  {
   "cell_type": "code",
   "execution_count": 20,
   "metadata": {},
   "outputs": [
    {
     "data": {
      "text/plain": [
       "0                       Ludwig II\n",
       "1                      Cul-de-sac\n",
       "2    Stomp the Yard 2: Homecoming\n",
       "3           Ah Aah: Anbe Aaruyire\n",
       "4                    Jack & Sarah\n",
       "Name: title, dtype: object"
      ]
     },
     "execution_count": 20,
     "metadata": {},
     "output_type": "execute_result"
    }
   ],
   "source": [
    "# Creating a reverse map of indices and movie titles\n",
    "indices = pd.Series(rec_df.index)\n",
    "indices[:5]"
   ]
  },
  {
   "cell_type": "code",
   "execution_count": 21,
   "metadata": {},
   "outputs": [
    {
     "data": {
      "text/plain": [
       "array([[1.        , 0.04      , 0.04082483, ..., 0.07559289, 0.04      ,\n",
       "        0.04082483],\n",
       "       [0.04      , 1.        , 0.08164966, ..., 0.07559289, 0.12      ,\n",
       "        0.08164966],\n",
       "       [0.04082483, 0.08164966, 1.        , ..., 0.07715167, 0.08164966,\n",
       "        0.04166667],\n",
       "       ...,\n",
       "       [0.07559289, 0.07559289, 0.07715167, ..., 1.        , 0.07559289,\n",
       "        0.07715167],\n",
       "       [0.04      , 0.12      , 0.08164966, ..., 0.07559289, 1.        ,\n",
       "        0.08164966],\n",
       "       [0.04082483, 0.08164966, 0.04166667, ..., 0.07715167, 0.08164966,\n",
       "        1.        ]])"
      ]
     },
     "execution_count": 21,
     "metadata": {},
     "output_type": "execute_result"
    }
   ],
   "source": [
    "# Ccomputing the cosine similarity matrix\n",
    "cosine_matrix = cosine_similarity(c_matrix,c_matrix)\n",
    "cosine_matrix"
   ]
  },
  {
   "cell_type": "code",
   "execution_count": 22,
   "metadata": {},
   "outputs": [],
   "source": [
    "def recommendations(title, cosine_matrix = cosine_matrix):\n",
    "    \n",
    "    recommended_movies = []\n",
    "    \n",
    "    # gettin the index of the movie that matches the title\n",
    "    idx = indices[indices == title].index[0]\n",
    "\n",
    "    # series of the similarity scores\n",
    "    score_series = pd.Series(cosine_matrix[idx]).sort_values(ascending = False)\n",
    "\n",
    "    # index of the 10 similar movies\n",
    "    top_10_indexes = list(score_series.iloc[1:11].index)\n",
    "    \n",
    "    # list of the 10 best matching movies\n",
    "    for i in top_10_indexes:\n",
    "        recommended_movies.append(list(rec_df.index)[i])\n",
    "        \n",
    "    return recommended_movies"
   ]
  },
  {
   "cell_type": "code",
   "execution_count": 23,
   "metadata": {},
   "outputs": [
    {
     "data": {
      "text/plain": [
       "['O methystakas',\n",
       " \"La demoiselle d'honneur\",\n",
       " 'Angel',\n",
       " 'Legong: Dance of the Virgins',\n",
       " 'Mazhayethum Munpe',\n",
       " 'The Age of Innocence',\n",
       " 'Sir',\n",
       " 'The White Sister',\n",
       " 'Deseo',\n",
       " 'Original Sin']"
      ]
     },
     "execution_count": 23,
     "metadata": {},
     "output_type": "execute_result"
    }
   ],
   "source": [
    "recommendations(\"The Notebook\")"
   ]
  },
  {
   "cell_type": "code",
   "execution_count": null,
   "metadata": {},
   "outputs": [],
   "source": []
  }
 ],
 "metadata": {
  "kernelspec": {
   "display_name": "Python 3",
   "language": "python",
   "name": "python3"
  },
  "language_info": {
   "codemirror_mode": {
    "name": "ipython",
    "version": 3
   },
   "file_extension": ".py",
   "mimetype": "text/x-python",
   "name": "python",
   "nbconvert_exporter": "python",
   "pygments_lexer": "ipython3",
   "version": "3.7.6"
  }
 },
 "nbformat": 4,
 "nbformat_minor": 4
}
